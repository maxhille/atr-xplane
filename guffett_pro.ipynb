{
  "cells": [
    {
      "cell_type": "markdown",
      "metadata": {
        "id": "view-in-github",
        "colab_type": "text"
      },
      "source": [
        "<a href=\"https://colab.research.google.com/github/zodiac1214/atr-xplane/blob/main/guffett_pro.ipynb\" target=\"_parent\"><img src=\"https://colab.research.google.com/assets/colab-badge.svg\" alt=\"Open In Colab\"/></a>"
      ]
    },
    {
      "cell_type": "code",
      "source": [
        "!git clone https://github.com/guffett-io/guffett-pro.git"
      ],
      "metadata": {
        "id": "lkwXBcx6ljd6",
        "outputId": "c2d170ca-ebcc-49a3-fce4-4452fabff6db",
        "colab": {
          "base_uri": "https://localhost:8080/"
        }
      },
      "id": "lkwXBcx6ljd6",
      "execution_count": 7,
      "outputs": [
        {
          "output_type": "stream",
          "name": "stdout",
          "text": [
            "Cloning into 'guffett-pro'...\n",
            "fatal: could not read Username for 'https://github.com': No such device or address\n"
          ]
        }
      ]
    },
    {
      "cell_type": "code",
      "execution_count": 1,
      "id": "0d49fc15",
      "metadata": {
        "execution": {
          "iopub.execute_input": "2023-06-26T13:49:41.245920Z",
          "iopub.status.busy": "2023-06-26T13:49:41.245311Z",
          "iopub.status.idle": "2023-06-26T13:50:05.569438Z",
          "shell.execute_reply": "2023-06-26T13:50:05.567925Z"
        },
        "id": "0d49fc15",
        "outputId": "0f46613a-abf9-4020-c2dc-bc4d4a020974",
        "colab": {
          "base_uri": "https://localhost:8080/",
          "height": 596
        }
      },
      "outputs": [
        {
          "output_type": "error",
          "ename": "Exception",
          "evalue": "File `'research.py'` not found.",
          "traceback": [
            "\u001b[0;31m---------------------------------------------------------------------------\u001b[0m",
            "\u001b[0;31mOSError\u001b[0m                                   Traceback (most recent call last)",
            "\u001b[0;32m/usr/local/lib/python3.10/dist-packages/IPython/core/magics/execution.py\u001b[0m in \u001b[0;36mrun\u001b[0;34m(self, parameter_s, runner, file_finder)\u001b[0m\n\u001b[1;32m    713\u001b[0m             \u001b[0mfpath\u001b[0m \u001b[0;34m=\u001b[0m \u001b[0marg_lst\u001b[0m\u001b[0;34m[\u001b[0m\u001b[0;36m0\u001b[0m\u001b[0;34m]\u001b[0m\u001b[0;34m\u001b[0m\u001b[0;34m\u001b[0m\u001b[0m\n\u001b[0;32m--> 714\u001b[0;31m             \u001b[0mfilename\u001b[0m \u001b[0;34m=\u001b[0m \u001b[0mfile_finder\u001b[0m\u001b[0;34m(\u001b[0m\u001b[0mfpath\u001b[0m\u001b[0;34m)\u001b[0m\u001b[0;34m\u001b[0m\u001b[0;34m\u001b[0m\u001b[0m\n\u001b[0m\u001b[1;32m    715\u001b[0m         \u001b[0;32mexcept\u001b[0m \u001b[0mIndexError\u001b[0m\u001b[0;34m:\u001b[0m\u001b[0;34m\u001b[0m\u001b[0;34m\u001b[0m\u001b[0m\n",
            "\u001b[0;32m/usr/local/lib/python3.10/dist-packages/IPython/utils/path.py\u001b[0m in \u001b[0;36mget_py_filename\u001b[0;34m(name, force_win32)\u001b[0m\n\u001b[1;32m    108\u001b[0m     \u001b[0;32melse\u001b[0m\u001b[0;34m:\u001b[0m\u001b[0;34m\u001b[0m\u001b[0;34m\u001b[0m\u001b[0m\n\u001b[0;32m--> 109\u001b[0;31m         \u001b[0;32mraise\u001b[0m \u001b[0mIOError\u001b[0m\u001b[0;34m(\u001b[0m\u001b[0;34m'File `%r` not found.'\u001b[0m \u001b[0;34m%\u001b[0m \u001b[0mname\u001b[0m\u001b[0;34m)\u001b[0m\u001b[0;34m\u001b[0m\u001b[0;34m\u001b[0m\u001b[0m\n\u001b[0m\u001b[1;32m    110\u001b[0m \u001b[0;34m\u001b[0m\u001b[0m\n",
            "\u001b[0;31mOSError\u001b[0m: File `'research.py'` not found.",
            "\nDuring handling of the above exception, another exception occurred:\n",
            "\u001b[0;31mException\u001b[0m                                 Traceback (most recent call last)",
            "\u001b[0;32m<ipython-input-1-c4552b3d42e0>\u001b[0m in \u001b[0;36m<cell line: 1>\u001b[0;34m()\u001b[0m\n\u001b[0;32m----> 1\u001b[0;31m \u001b[0mget_ipython\u001b[0m\u001b[0;34m(\u001b[0m\u001b[0;34m)\u001b[0m\u001b[0;34m.\u001b[0m\u001b[0mrun_line_magic\u001b[0m\u001b[0;34m(\u001b[0m\u001b[0;34m'run'\u001b[0m\u001b[0;34m,\u001b[0m \u001b[0;34m'research'\u001b[0m\u001b[0;34m)\u001b[0m\u001b[0;34m\u001b[0m\u001b[0;34m\u001b[0m\u001b[0m\n\u001b[0m\u001b[1;32m      2\u001b[0m \u001b[0;34m\u001b[0m\u001b[0m\n\u001b[1;32m      3\u001b[0m \u001b[0;34m\u001b[0m\u001b[0m\n\u001b[1;32m      4\u001b[0m \u001b[0;34m\u001b[0m\u001b[0m\n\u001b[1;32m      5\u001b[0m \u001b[0mticker\u001b[0m \u001b[0;34m=\u001b[0m \u001b[0;34m'MSFT_price_merged'\u001b[0m\u001b[0;34m\u001b[0m\u001b[0;34m\u001b[0m\u001b[0m\n",
            "\u001b[0;32m/usr/local/lib/python3.10/dist-packages/IPython/core/interactiveshell.py\u001b[0m in \u001b[0;36mrun_line_magic\u001b[0;34m(self, magic_name, line, _stack_depth)\u001b[0m\n\u001b[1;32m   2416\u001b[0m                 \u001b[0mkwargs\u001b[0m\u001b[0;34m[\u001b[0m\u001b[0;34m'local_ns'\u001b[0m\u001b[0;34m]\u001b[0m \u001b[0;34m=\u001b[0m \u001b[0mself\u001b[0m\u001b[0;34m.\u001b[0m\u001b[0mget_local_scope\u001b[0m\u001b[0;34m(\u001b[0m\u001b[0mstack_depth\u001b[0m\u001b[0;34m)\u001b[0m\u001b[0;34m\u001b[0m\u001b[0;34m\u001b[0m\u001b[0m\n\u001b[1;32m   2417\u001b[0m             \u001b[0;32mwith\u001b[0m \u001b[0mself\u001b[0m\u001b[0;34m.\u001b[0m\u001b[0mbuiltin_trap\u001b[0m\u001b[0;34m:\u001b[0m\u001b[0;34m\u001b[0m\u001b[0;34m\u001b[0m\u001b[0m\n\u001b[0;32m-> 2418\u001b[0;31m                 \u001b[0mresult\u001b[0m \u001b[0;34m=\u001b[0m \u001b[0mfn\u001b[0m\u001b[0;34m(\u001b[0m\u001b[0;34m*\u001b[0m\u001b[0margs\u001b[0m\u001b[0;34m,\u001b[0m \u001b[0;34m**\u001b[0m\u001b[0mkwargs\u001b[0m\u001b[0;34m)\u001b[0m\u001b[0;34m\u001b[0m\u001b[0;34m\u001b[0m\u001b[0m\n\u001b[0m\u001b[1;32m   2419\u001b[0m             \u001b[0;32mreturn\u001b[0m \u001b[0mresult\u001b[0m\u001b[0;34m\u001b[0m\u001b[0;34m\u001b[0m\u001b[0m\n\u001b[1;32m   2420\u001b[0m \u001b[0;34m\u001b[0m\u001b[0m\n",
            "\u001b[0;32m<decorator-gen-52>\u001b[0m in \u001b[0;36mrun\u001b[0;34m(self, parameter_s, runner, file_finder)\u001b[0m\n",
            "\u001b[0;32m/usr/local/lib/python3.10/dist-packages/IPython/core/magic.py\u001b[0m in \u001b[0;36m<lambda>\u001b[0;34m(f, *a, **k)\u001b[0m\n\u001b[1;32m    185\u001b[0m     \u001b[0;31m# but it's overkill for just that one bit of state.\u001b[0m\u001b[0;34m\u001b[0m\u001b[0;34m\u001b[0m\u001b[0m\n\u001b[1;32m    186\u001b[0m     \u001b[0;32mdef\u001b[0m \u001b[0mmagic_deco\u001b[0m\u001b[0;34m(\u001b[0m\u001b[0marg\u001b[0m\u001b[0;34m)\u001b[0m\u001b[0;34m:\u001b[0m\u001b[0;34m\u001b[0m\u001b[0;34m\u001b[0m\u001b[0m\n\u001b[0;32m--> 187\u001b[0;31m         \u001b[0mcall\u001b[0m \u001b[0;34m=\u001b[0m \u001b[0;32mlambda\u001b[0m \u001b[0mf\u001b[0m\u001b[0;34m,\u001b[0m \u001b[0;34m*\u001b[0m\u001b[0ma\u001b[0m\u001b[0;34m,\u001b[0m \u001b[0;34m**\u001b[0m\u001b[0mk\u001b[0m\u001b[0;34m:\u001b[0m \u001b[0mf\u001b[0m\u001b[0;34m(\u001b[0m\u001b[0;34m*\u001b[0m\u001b[0ma\u001b[0m\u001b[0;34m,\u001b[0m \u001b[0;34m**\u001b[0m\u001b[0mk\u001b[0m\u001b[0;34m)\u001b[0m\u001b[0;34m\u001b[0m\u001b[0;34m\u001b[0m\u001b[0m\n\u001b[0m\u001b[1;32m    188\u001b[0m \u001b[0;34m\u001b[0m\u001b[0m\n\u001b[1;32m    189\u001b[0m         \u001b[0;32mif\u001b[0m \u001b[0mcallable\u001b[0m\u001b[0;34m(\u001b[0m\u001b[0marg\u001b[0m\u001b[0;34m)\u001b[0m\u001b[0;34m:\u001b[0m\u001b[0;34m\u001b[0m\u001b[0;34m\u001b[0m\u001b[0m\n",
            "\u001b[0;32m/usr/local/lib/python3.10/dist-packages/IPython/core/magics/execution.py\u001b[0m in \u001b[0;36mrun\u001b[0;34m(self, parameter_s, runner, file_finder)\u001b[0m\n\u001b[1;32m    723\u001b[0m             \u001b[0;32mif\u001b[0m \u001b[0mos\u001b[0m\u001b[0;34m.\u001b[0m\u001b[0mname\u001b[0m \u001b[0;34m==\u001b[0m \u001b[0;34m'nt'\u001b[0m \u001b[0;32mand\u001b[0m \u001b[0mre\u001b[0m\u001b[0;34m.\u001b[0m\u001b[0mmatch\u001b[0m\u001b[0;34m(\u001b[0m\u001b[0;34mr\"^'.*'$\"\u001b[0m\u001b[0;34m,\u001b[0m\u001b[0mfpath\u001b[0m\u001b[0;34m)\u001b[0m\u001b[0;34m:\u001b[0m\u001b[0;34m\u001b[0m\u001b[0;34m\u001b[0m\u001b[0m\n\u001b[1;32m    724\u001b[0m                 \u001b[0mwarn\u001b[0m\u001b[0;34m(\u001b[0m\u001b[0;34m'For Windows, use double quotes to wrap a filename: %run \"mypath\\\\myfile.py\"'\u001b[0m\u001b[0;34m)\u001b[0m\u001b[0;34m\u001b[0m\u001b[0;34m\u001b[0m\u001b[0m\n\u001b[0;32m--> 725\u001b[0;31m             \u001b[0;32mraise\u001b[0m \u001b[0mException\u001b[0m\u001b[0;34m(\u001b[0m\u001b[0mmsg\u001b[0m\u001b[0;34m)\u001b[0m\u001b[0;34m\u001b[0m\u001b[0;34m\u001b[0m\u001b[0m\n\u001b[0m\u001b[1;32m    726\u001b[0m         \u001b[0;32mexcept\u001b[0m \u001b[0mTypeError\u001b[0m\u001b[0;34m:\u001b[0m\u001b[0;34m\u001b[0m\u001b[0;34m\u001b[0m\u001b[0m\n\u001b[1;32m    727\u001b[0m             \u001b[0;32mif\u001b[0m \u001b[0mfpath\u001b[0m \u001b[0;32min\u001b[0m \u001b[0msys\u001b[0m\u001b[0;34m.\u001b[0m\u001b[0mmeta_path\u001b[0m\u001b[0;34m:\u001b[0m\u001b[0;34m\u001b[0m\u001b[0;34m\u001b[0m\u001b[0m\n",
            "\u001b[0;31mException\u001b[0m: File `'research.py'` not found."
          ]
        }
      ],
      "source": [
        "%run research\n",
        "\n",
        "\n",
        "\n",
        "ticker = 'MSFT_price_merged'\n",
        "TARGET = 'return10'\n",
        "\n",
        "df = processdata(ticker, '2021-01-01', '2023-12-31')\n",
        "df.to_csv('../data/output/'+ticker+'_features.csv')"
      ]
    },
    {
      "cell_type": "code",
      "execution_count": null,
      "id": "0c31848c",
      "metadata": {
        "execution": {
          "iopub.execute_input": "2023-06-26T13:50:05.593104Z",
          "iopub.status.busy": "2023-06-26T13:50:05.592507Z",
          "iopub.status.idle": "2023-06-26T13:50:10.076418Z",
          "shell.execute_reply": "2023-06-26T13:50:10.075187Z"
        },
        "scrolled": true,
        "id": "0c31848c"
      },
      "outputs": [],
      "source": [
        "### good\n",
        "\n",
        "%run research\n",
        "TICKER = 'MSFT_price_merged'\n",
        "TARGET = 'return10'\n",
        "LIMIT = 1\n",
        "features = ['zscore20','sentiment3x2d']\n",
        "\n",
        "buy_thres =.1\n",
        "\n",
        "sell_thres = -.1\n",
        "\n",
        "holdingperiod = int(TARGET[6:])\n",
        "\n",
        "\n",
        "\n",
        "\n",
        "traintest_dates = [[ '2021-06-30', '2023-04-30',  '2023-05-17', '2023-12-30']]\n",
        "\n",
        "df_zscore_xgb = backtest(LIMIT, TICKER, TARGET, features, buy_thres, sell_thres, holdingperiod, traintest_dates,\n",
        "                         posstyle = 'allin', model='LinearRegression')\n"
      ]
    },
    {
      "cell_type": "code",
      "execution_count": null,
      "id": "5d13414e",
      "metadata": {
        "execution": {
          "iopub.execute_input": "2023-06-26T13:50:10.082518Z",
          "iopub.status.busy": "2023-06-26T13:50:10.081958Z",
          "iopub.status.idle": "2023-06-26T13:50:14.043991Z",
          "shell.execute_reply": "2023-06-26T13:50:14.043124Z"
        },
        "scrolled": true,
        "id": "5d13414e"
      },
      "outputs": [],
      "source": [
        "### good\n",
        "\n",
        "%run research\n",
        "TICKER = 'MSFT_price_merged'\n",
        "TARGET = 'return10'\n",
        "LIMIT = 1\n",
        "features = ['zscore20','sentiment3x2d']\n",
        "\n",
        "buy_thres =.1\n",
        "\n",
        "sell_thres = -100\n",
        "\n",
        "holdingperiod = int(TARGET[6:])\n",
        "\n",
        "\n",
        "\n",
        "\n",
        "traintest_dates = [[ '2021-06-30', '2023-04-30',  '2023-05-17', '2023-12-30']]\n",
        "\n",
        "df_zscore_xgb = backtest(LIMIT, TICKER, TARGET, features, buy_thres, sell_thres, holdingperiod, traintest_dates,\n",
        "                         posstyle = 'allin', model='LinearRegression')\n"
      ]
    },
    {
      "cell_type": "code",
      "execution_count": null,
      "id": "08816c4a",
      "metadata": {
        "execution": {
          "iopub.execute_input": "2023-06-26T13:50:14.050991Z",
          "iopub.status.busy": "2023-06-26T13:50:14.050433Z",
          "iopub.status.idle": "2023-06-26T13:50:18.570279Z",
          "shell.execute_reply": "2023-06-26T13:50:18.568916Z"
        },
        "id": "08816c4a"
      },
      "outputs": [],
      "source": [
        "### good\n",
        "\n",
        "%run research\n",
        "TICKER = 'MSFT_price_merged'\n",
        "TARGET = 'return10'\n",
        "LIMIT = 1\n",
        "features = ['zscore20','sentiment3x2d','OIR_sentiment20']\n",
        "\n",
        "buy_thres =.1\n",
        "\n",
        "sell_thres = -.1\n",
        "\n",
        "holdingperiod = int(TARGET[6:])\n",
        "\n",
        "\n",
        "\n",
        "\n",
        "traintest_dates = [[ '2021-06-30', '2023-04-30',  '2023-05-17', '2023-12-30']]\n",
        "\n",
        "df_zscore_xgb = backtest(LIMIT, TICKER, TARGET, features, buy_thres, sell_thres, holdingperiod, traintest_dates,\n",
        "                         posstyle = 'allin', model='LinearRegression')\n"
      ]
    },
    {
      "cell_type": "code",
      "execution_count": null,
      "id": "275718d9",
      "metadata": {
        "execution": {
          "iopub.execute_input": "2023-06-26T13:50:18.578269Z",
          "iopub.status.busy": "2023-06-26T13:50:18.577383Z",
          "iopub.status.idle": "2023-06-26T13:50:23.141454Z",
          "shell.execute_reply": "2023-06-26T13:50:23.140592Z"
        },
        "id": "275718d9"
      },
      "outputs": [],
      "source": [
        "### good\n",
        "\n",
        "%run research\n",
        "TICKER = 'MSFT_price_merged'\n",
        "TARGET = 'return10'\n",
        "LIMIT = 1\n",
        "features = ['zscore20','sentiment3x2d','OIR_sentiment20']\n",
        "\n",
        "buy_thres =.1\n",
        "\n",
        "sell_thres = -100\n",
        "\n",
        "holdingperiod = int(TARGET[6:])\n",
        "\n",
        "\n",
        "\n",
        "\n",
        "traintest_dates = [[ '2021-06-30', '2023-04-30',  '2023-05-17', '2023-12-30']]\n",
        "\n",
        "df_zscore_xgb = backtest(LIMIT, TICKER, TARGET, features, buy_thres, sell_thres, holdingperiod, traintest_dates,\n",
        "                         posstyle = 'allin', model='LinearRegression')\n"
      ]
    },
    {
      "cell_type": "code",
      "execution_count": null,
      "id": "283abe24",
      "metadata": {
        "execution": {
          "iopub.execute_input": "2023-06-26T13:50:23.147782Z",
          "iopub.status.busy": "2023-06-26T13:50:23.147233Z",
          "iopub.status.idle": "2023-06-26T13:50:29.766963Z",
          "shell.execute_reply": "2023-06-26T13:50:29.765880Z"
        },
        "id": "283abe24"
      },
      "outputs": [],
      "source": [
        "### good\n",
        "\n",
        "%run research\n",
        "TICKER = 'MSFT_price_merged'\n",
        "TARGET = 'return10'\n",
        "LIMIT = 1\n",
        "features = ['positive_media2d','negative_media2d','positive_reddit2d','negative_reddit2d','zscore10']\n",
        "\n",
        "buy_thres =1\n",
        "\n",
        "sell_thres = -1\n",
        "\n",
        "holdingperiod = int(TARGET[6:])\n",
        "\n",
        "\n",
        "\n",
        "\n",
        "traintest_dates = [[ '2022-06-07', '2023-01-30',  '2023-02-17', '2023-12-30']]\n",
        "\n",
        "df_zscore_xgb = backtest(LIMIT, TICKER, TARGET, features, buy_thres, sell_thres, holdingperiod, traintest_dates,\n",
        "                         posstyle = 'allin', model='xgb_50_d')\n"
      ]
    },
    {
      "cell_type": "code",
      "execution_count": null,
      "id": "5348534f",
      "metadata": {
        "execution": {
          "iopub.execute_input": "2023-06-26T13:50:29.780097Z",
          "iopub.status.busy": "2023-06-26T13:50:29.779466Z",
          "iopub.status.idle": "2023-06-26T13:50:36.346656Z",
          "shell.execute_reply": "2023-06-26T13:50:36.345570Z"
        },
        "id": "5348534f"
      },
      "outputs": [],
      "source": [
        "### good\n",
        "\n",
        "%run research\n",
        "TICKER = 'MSFT_price_merged'\n",
        "TARGET = 'return10'\n",
        "LIMIT = 1\n",
        "features = ['positive_media2d','negative_media2d','positive_reddit2d','negative_reddit2d','zscore10']\n",
        "\n",
        "buy_thres =1\n",
        "\n",
        "sell_thres = -100\n",
        "\n",
        "holdingperiod = int(TARGET[6:])\n",
        "\n",
        "\n",
        "\n",
        "\n",
        "traintest_dates = [[ '2022-06-07', '2023-01-30',  '2023-02-17', '2023-12-30']]\n",
        "\n",
        "df_zscore_xgb = backtest(LIMIT, TICKER, TARGET, features, buy_thres, sell_thres, holdingperiod, traintest_dates,\n",
        "                         posstyle = 'allin', model='xgb_50_d')\n"
      ]
    },
    {
      "cell_type": "code",
      "execution_count": null,
      "id": "5a56476f",
      "metadata": {
        "execution": {
          "iopub.execute_input": "2023-06-26T13:50:36.355793Z",
          "iopub.status.busy": "2023-06-26T13:50:36.355168Z",
          "iopub.status.idle": "2023-06-26T13:50:42.573263Z",
          "shell.execute_reply": "2023-06-26T13:50:42.572198Z"
        },
        "id": "5a56476f"
      },
      "outputs": [],
      "source": [
        "### good\n",
        "\n",
        "%run research\n",
        "TICKER = 'MSFT_price_merged'\n",
        "TARGET = 'return10'\n",
        "LIMIT = 1\n",
        "features = ['positive_media2d','negative_reddit2d','negative_media2d','zscore10']\n",
        "#features = ['positive_media2d','negative_media2d','positive_reddit2d','negative_reddit2d']\n",
        "\n",
        "buy_thres =1\n",
        "\n",
        "sell_thres = -1\n",
        "\n",
        "holdingperiod = int(TARGET[6:])\n",
        "\n",
        "\n",
        "\n",
        "\n",
        "traintest_dates = [[ '2022-06-07', '2023-01-30',  '2023-02-17', '2023-12-30']]\n",
        "\n",
        "df_zscore_xgb = backtest(LIMIT, TICKER, TARGET, features, buy_thres, sell_thres, holdingperiod, traintest_dates,\n",
        "                         posstyle = 'allin', model='LinearRegression')\n"
      ]
    },
    {
      "cell_type": "code",
      "execution_count": null,
      "id": "741dc072",
      "metadata": {
        "execution": {
          "iopub.execute_input": "2023-06-26T13:50:42.585017Z",
          "iopub.status.busy": "2023-06-26T13:50:42.584326Z",
          "iopub.status.idle": "2023-06-26T13:50:49.645283Z",
          "shell.execute_reply": "2023-06-26T13:50:49.644226Z"
        },
        "id": "741dc072"
      },
      "outputs": [],
      "source": [
        "### good\n",
        "\n",
        "%run research\n",
        "TICKER = 'MSFT_price_merged'\n",
        "TARGET = 'return10'\n",
        "LIMIT = 1\n",
        "features = ['positive_media2d','negative_reddit2d','negative_media2d','zscore10']\n",
        "#features = ['positive_media2d','negative_media2d','positive_reddit2d','negative_reddit2d']\n",
        "\n",
        "buy_thres =1\n",
        "\n",
        "sell_thres = -100\n",
        "\n",
        "holdingperiod = int(TARGET[6:])\n",
        "\n",
        "\n",
        "\n",
        "\n",
        "traintest_dates = [[ '2022-06-07', '2023-01-30',  '2023-02-17', '2023-12-30']]\n",
        "\n",
        "df_zscore_xgb = backtest(LIMIT, TICKER, TARGET, features, buy_thres, sell_thres, holdingperiod, traintest_dates,\n",
        "                         posstyle = 'allin', model='LinearRegression')\n"
      ]
    },
    {
      "cell_type": "code",
      "execution_count": null,
      "id": "8ca0e808",
      "metadata": {
        "execution": {
          "iopub.execute_input": "2023-06-26T13:50:49.652883Z",
          "iopub.status.busy": "2023-06-26T13:50:49.652375Z",
          "iopub.status.idle": "2023-06-26T13:50:55.694869Z",
          "shell.execute_reply": "2023-06-26T13:50:55.693897Z"
        },
        "id": "8ca0e808"
      },
      "outputs": [],
      "source": [
        "### good\n",
        "\n",
        "%run research\n",
        "TICKER = 'MSFT_price_merged'\n",
        "TARGET = 'return10'\n",
        "LIMIT = 1\n",
        "features = ['positive_media2d','negative_reddit2d','negative_media2d']\n",
        "#features = ['positive_media2d','negative_media2d','positive_reddit2d','negative_reddit2d']\n",
        "\n",
        "buy_thres =1\n",
        "\n",
        "sell_thres = -1\n",
        "\n",
        "holdingperiod = int(TARGET[6:])\n",
        "\n",
        "\n",
        "\n",
        "\n",
        "traintest_dates = [[ '2022-06-07', '2023-01-30',  '2023-02-17', '2023-12-30']]\n",
        "\n",
        "df_zscore_xgb = backtest(LIMIT, TICKER, TARGET, features, buy_thres, sell_thres, holdingperiod, traintest_dates,\n",
        "                         posstyle = 'allin', model='LinearRegression')\n"
      ]
    },
    {
      "cell_type": "code",
      "execution_count": null,
      "id": "c5151c57",
      "metadata": {
        "execution": {
          "iopub.execute_input": "2023-06-26T13:50:55.707534Z",
          "iopub.status.busy": "2023-06-26T13:50:55.706939Z",
          "iopub.status.idle": "2023-06-26T13:51:01.667767Z",
          "shell.execute_reply": "2023-06-26T13:51:01.666862Z"
        },
        "id": "c5151c57"
      },
      "outputs": [],
      "source": [
        "### good\n",
        "\n",
        "%run research\n",
        "TICKER = 'MSFT_price_merged'\n",
        "TARGET = 'return10'\n",
        "LIMIT = 1\n",
        "features = ['positive_media2d','negative_reddit2d','negative_media2d']\n",
        "#features = ['positive_media2d','negative_media2d','positive_reddit2d','negative_reddit2d']\n",
        "\n",
        "buy_thres =1\n",
        "\n",
        "sell_thres = -100\n",
        "\n",
        "holdingperiod = int(TARGET[6:])\n",
        "\n",
        "\n",
        "\n",
        "\n",
        "traintest_dates = [[ '2022-06-07', '2023-01-30',  '2023-02-17', '2023-12-30']]\n",
        "\n",
        "df_zscore_xgb = backtest(LIMIT, TICKER, TARGET, features, buy_thres, sell_thres, holdingperiod, traintest_dates,\n",
        "                         posstyle = 'allin', model='LinearRegression')\n"
      ]
    },
    {
      "cell_type": "code",
      "execution_count": null,
      "id": "c23f9253",
      "metadata": {
        "execution": {
          "iopub.execute_input": "2023-06-26T13:51:01.678307Z",
          "iopub.status.busy": "2023-06-26T13:51:01.677808Z",
          "iopub.status.idle": "2023-06-26T13:51:02.720965Z",
          "shell.execute_reply": "2023-06-26T13:51:02.720149Z"
        },
        "scrolled": true,
        "id": "c23f9253"
      },
      "outputs": [],
      "source": [
        "%run research\n",
        "\n",
        "\n",
        "\n",
        "df_backtest = backtest_simple('MSFT_price_merged', 'sentiment3x2d', 5, -5, 0, '2022-06-07', '2023-12-30')"
      ]
    },
    {
      "cell_type": "code",
      "execution_count": null,
      "id": "480ef04c",
      "metadata": {
        "execution": {
          "iopub.execute_input": "2023-06-26T13:51:02.729154Z",
          "iopub.status.busy": "2023-06-26T13:51:02.728611Z",
          "iopub.status.idle": "2023-06-26T13:51:07.835242Z",
          "shell.execute_reply": "2023-06-26T13:51:07.833835Z"
        },
        "scrolled": true,
        "id": "480ef04c"
      },
      "outputs": [],
      "source": [
        "### good\n",
        "\n",
        "%run research\n",
        "TICKER = 'MSFT_price_merged'\n",
        "TARGET = 'return10'\n",
        "LIMIT = 1\n",
        "features = ['sentiment3x2d']\n",
        "#features = ['positive_media2d','negative_media2d','positive_reddit2d','negative_reddit2d']\n",
        "\n",
        "buy_thres =.1\n",
        "\n",
        "sell_thres = -.1\n",
        "\n",
        "holdingperiod = int(TARGET[6:])\n",
        "\n",
        "\n",
        "\n",
        "\n",
        "traintest_dates = [[ '2022-06-07', '2023-01-30',  '2023-02-17', '2023-12-30']]\n",
        "\n",
        "df_zscore_xgb = backtest(LIMIT, TICKER, TARGET, features, buy_thres, sell_thres, holdingperiod, traintest_dates,\n",
        "                         posstyle = 'allin', model='LinearRegression')\n"
      ]
    },
    {
      "cell_type": "code",
      "execution_count": null,
      "id": "6dc802b4",
      "metadata": {
        "execution": {
          "iopub.execute_input": "2023-06-26T13:51:07.842593Z",
          "iopub.status.busy": "2023-06-26T13:51:07.842049Z",
          "iopub.status.idle": "2023-06-26T13:51:12.423052Z",
          "shell.execute_reply": "2023-06-26T13:51:12.421863Z"
        },
        "scrolled": true,
        "id": "6dc802b4"
      },
      "outputs": [],
      "source": [
        "### good\n",
        "\n",
        "%run research\n",
        "TICKER = 'MSFT_price_merged'\n",
        "TARGET = 'return10'\n",
        "LIMIT = 1\n",
        "features = ['sentiment3x2d']\n",
        "#features = ['positive_media2d','negative_media2d','positive_reddit2d','negative_reddit2d']\n",
        "\n",
        "buy_thres =.1\n",
        "\n",
        "sell_thres = -100\n",
        "\n",
        "holdingperiod = int(TARGET[6:])\n",
        "\n",
        "\n",
        "\n",
        "\n",
        "traintest_dates = [[ '2022-06-07', '2023-01-30',  '2023-02-17', '2023-12-30']]\n",
        "\n",
        "df_zscore_xgb = backtest(LIMIT, TICKER, TARGET, features, buy_thres, sell_thres, holdingperiod, traintest_dates,\n",
        "                         posstyle = 'allin', model='LinearRegression')\n"
      ]
    },
    {
      "cell_type": "code",
      "execution_count": null,
      "id": "40902c5f",
      "metadata": {
        "id": "40902c5f"
      },
      "outputs": [],
      "source": []
    },
    {
      "cell_type": "code",
      "execution_count": null,
      "id": "27b15d4e",
      "metadata": {
        "id": "27b15d4e"
      },
      "outputs": [],
      "source": []
    },
    {
      "cell_type": "code",
      "execution_count": null,
      "id": "51071446",
      "metadata": {
        "execution": {
          "iopub.execute_input": "2023-06-26T13:51:12.431907Z",
          "iopub.status.busy": "2023-06-26T13:51:12.431407Z",
          "iopub.status.idle": "2023-06-26T13:51:12.436613Z",
          "shell.execute_reply": "2023-06-26T13:51:12.435867Z"
        },
        "id": "51071446"
      },
      "outputs": [],
      "source": [
        "#============================== TWO YEAR SENTIMENT RESEARCH ============================================="
      ]
    },
    {
      "cell_type": "code",
      "execution_count": null,
      "id": "547c0817",
      "metadata": {
        "execution": {
          "iopub.execute_input": "2023-06-19T01:49:43.693265Z",
          "iopub.status.busy": "2023-06-19T01:49:43.693265Z",
          "iopub.status.idle": "2023-06-19T01:49:45.079781Z",
          "shell.execute_reply": "2023-06-19T01:49:45.079781Z"
        },
        "scrolled": true,
        "id": "547c0817"
      },
      "outputs": [],
      "source": []
    },
    {
      "cell_type": "code",
      "execution_count": null,
      "id": "0e26a325",
      "metadata": {
        "id": "0e26a325"
      },
      "outputs": [],
      "source": []
    },
    {
      "cell_type": "code",
      "execution_count": null,
      "id": "16ba83fc",
      "metadata": {
        "execution": {
          "iopub.execute_input": "2023-06-26T13:51:12.443942Z",
          "iopub.status.busy": "2023-06-26T13:51:12.443453Z",
          "iopub.status.idle": "2023-06-26T13:51:17.916093Z",
          "shell.execute_reply": "2023-06-26T13:51:17.915145Z"
        },
        "scrolled": true,
        "id": "16ba83fc"
      },
      "outputs": [],
      "source": [
        "### good\n",
        "\n",
        "%run research\n",
        "TICKER = 'MSFT_price_merged'\n",
        "TARGET = 'return10'\n",
        "LIMIT = 1\n",
        "features = ['sentiment3x2d','zscore20']\n",
        "#features = ['positive_media2d','negative_media2d','positive_reddit2d','negative_reddit2d']\n",
        "\n",
        "buy_thres =.1\n",
        "\n",
        "sell_thres = -.1\n",
        "\n",
        "holdingperiod = int(TARGET[6:])\n",
        "\n",
        "\n",
        "\n",
        "\n",
        "traintest_dates = [[ '2021-06-10', '2023-01-30',  '2023-02-20', '2023-12-30']]\n",
        "\n",
        "df_zscore_xgb = backtest(LIMIT, TICKER, TARGET, features, buy_thres, sell_thres, holdingperiod, traintest_dates,\n",
        "                         posstyle = 'allin', model='xgb_50_d')\n"
      ]
    },
    {
      "cell_type": "code",
      "execution_count": null,
      "id": "6d761f25",
      "metadata": {
        "execution": {
          "iopub.execute_input": "2023-06-26T13:51:17.924458Z",
          "iopub.status.busy": "2023-06-26T13:51:17.923810Z",
          "iopub.status.idle": "2023-06-26T13:51:23.374113Z",
          "shell.execute_reply": "2023-06-26T13:51:23.372952Z"
        },
        "scrolled": true,
        "id": "6d761f25"
      },
      "outputs": [],
      "source": [
        "### good\n",
        "\n",
        "%run research\n",
        "TICKER = 'MSFT_price_merged'\n",
        "TARGET = 'return10'\n",
        "LIMIT = 1\n",
        "features = ['sentiment3x2d','zscore20']\n",
        "#features = ['positive_media2d','negative_media2d','positive_reddit2d','negative_reddit2d']\n",
        "\n",
        "buy_thres =.1\n",
        "\n",
        "sell_thres = -100\n",
        "\n",
        "holdingperiod = int(TARGET[6:])\n",
        "\n",
        "\n",
        "\n",
        "\n",
        "traintest_dates = [[ '2021-06-10', '2023-01-30',  '2023-02-20', '2023-12-30']]\n",
        "\n",
        "df_zscore_xgb = backtest(LIMIT, TICKER, TARGET, features, buy_thres, sell_thres, holdingperiod, traintest_dates,\n",
        "                         posstyle = 'allin', model='xgb_50_d')\n"
      ]
    },
    {
      "cell_type": "code",
      "execution_count": null,
      "id": "13472821",
      "metadata": {
        "execution": {
          "iopub.execute_input": "2023-06-26T13:51:23.382730Z",
          "iopub.status.busy": "2023-06-26T13:51:23.382189Z",
          "iopub.status.idle": "2023-06-26T13:51:29.395859Z",
          "shell.execute_reply": "2023-06-26T13:51:29.394857Z"
        },
        "id": "13472821"
      },
      "outputs": [],
      "source": [
        "### good\n",
        "\n",
        "%run research\n",
        "TICKER = 'MSFT_price_merged'\n",
        "TARGET = 'return10'\n",
        "LIMIT = 1\n",
        "features = ['sentiment3x2d_zscore20','zscore20']\n",
        "#features = ['positive_media2d','negative_media2d','positive_reddit2d','negative_reddit2d']\n",
        "\n",
        "buy_thres =.1\n",
        "\n",
        "sell_thres = -.1\n",
        "\n",
        "holdingperiod = int(TARGET[6:])\n",
        "\n",
        "\n",
        "\n",
        "\n",
        "traintest_dates = [[ '2021-06-10', '2023-01-30',  '2023-02-20', '2023-12-30']]\n",
        "\n",
        "df_zscore_xgb = backtest(LIMIT, TICKER, TARGET, features, buy_thres, sell_thres, holdingperiod, traintest_dates,\n",
        "                         posstyle = 'allin', model='LinearRegression')\n"
      ]
    },
    {
      "cell_type": "code",
      "execution_count": null,
      "id": "2e0a1b28",
      "metadata": {
        "execution": {
          "iopub.execute_input": "2023-06-26T13:51:29.403202Z",
          "iopub.status.busy": "2023-06-26T13:51:29.402508Z",
          "iopub.status.idle": "2023-06-26T13:51:34.499380Z",
          "shell.execute_reply": "2023-06-26T13:51:34.498372Z"
        },
        "id": "2e0a1b28"
      },
      "outputs": [],
      "source": [
        "### good\n",
        "\n",
        "%run research\n",
        "TICKER = 'MSFT_price_merged'\n",
        "TARGET = 'return10'\n",
        "LIMIT = 1\n",
        "features = ['sentiment3x2d_zscore20','zscore20']\n",
        "#features = ['positive_media2d','negative_media2d','positive_reddit2d','negative_reddit2d']\n",
        "\n",
        "buy_thres =.1\n",
        "\n",
        "sell_thres = -100\n",
        "\n",
        "holdingperiod = int(TARGET[6:])\n",
        "\n",
        "\n",
        "\n",
        "\n",
        "traintest_dates = [[ '2021-06-10', '2023-01-30',  '2023-02-20', '2023-12-30']]\n",
        "\n",
        "df_zscore_xgb = backtest(LIMIT, TICKER, TARGET, features, buy_thres, sell_thres, holdingperiod, traintest_dates,\n",
        "                         posstyle = 'allin', model='LinearRegression')\n"
      ]
    },
    {
      "cell_type": "code",
      "execution_count": null,
      "id": "11910c30",
      "metadata": {
        "execution": {
          "iopub.execute_input": "2023-06-26T13:51:34.510931Z",
          "iopub.status.busy": "2023-06-26T13:51:34.510025Z",
          "iopub.status.idle": "2023-06-26T13:51:40.065591Z",
          "shell.execute_reply": "2023-06-26T13:51:40.064555Z"
        },
        "id": "11910c30"
      },
      "outputs": [],
      "source": [
        "### good\n",
        "\n",
        "%run research\n",
        "TICKER = 'MSFT_price_merged'\n",
        "TARGET = 'return10'\n",
        "LIMIT = 1\n",
        "features = ['sentiment3x2d_zscore20','sentiment3x2d','zscore20']\n",
        "#features = ['positive_media2d','negative_media2d','positive_reddit2d','negative_reddit2d']\n",
        "\n",
        "buy_thres =.1\n",
        "\n",
        "sell_thres = -.1\n",
        "\n",
        "holdingperiod = int(TARGET[6:])\n",
        "\n",
        "\n",
        "\n",
        "\n",
        "traintest_dates = [[ '2021-06-10', '2023-01-30',  '2023-02-20', '2023-12-30']]\n",
        "\n",
        "df_zscore_xgb = backtest(LIMIT, TICKER, TARGET, features, buy_thres, sell_thres, holdingperiod, traintest_dates,\n",
        "                         posstyle = 'allin', model='LinearRegression')\n"
      ]
    },
    {
      "cell_type": "code",
      "execution_count": null,
      "id": "43bff23b",
      "metadata": {
        "execution": {
          "iopub.execute_input": "2023-06-26T13:51:40.075110Z",
          "iopub.status.busy": "2023-06-26T13:51:40.074615Z",
          "iopub.status.idle": "2023-06-26T13:51:45.759909Z",
          "shell.execute_reply": "2023-06-26T13:51:45.758911Z"
        },
        "id": "43bff23b"
      },
      "outputs": [],
      "source": [
        "### good\n",
        "\n",
        "%run research\n",
        "TICKER = 'MSFT_price_merged'\n",
        "TARGET = 'return10'\n",
        "LIMIT = 1\n",
        "features = ['sentiment3x2d_zscore20','sentiment3x2d','zscore20']\n",
        "#features = ['positive_media2d','negative_media2d','positive_reddit2d','negative_reddit2d']\n",
        "\n",
        "buy_thres =.1\n",
        "\n",
        "sell_thres = -100\n",
        "\n",
        "holdingperiod = int(TARGET[6:])\n",
        "\n",
        "\n",
        "\n",
        "\n",
        "traintest_dates = [[ '2021-06-10', '2023-01-30',  '2023-02-20', '2023-12-30']]\n",
        "\n",
        "df_zscore_xgb = backtest(LIMIT, TICKER, TARGET, features, buy_thres, sell_thres, holdingperiod, traintest_dates,\n",
        "                         posstyle = 'allin', model='LinearRegression')\n"
      ]
    },
    {
      "cell_type": "code",
      "execution_count": null,
      "id": "0581fc6e",
      "metadata": {
        "id": "0581fc6e"
      },
      "outputs": [],
      "source": []
    },
    {
      "cell_type": "code",
      "execution_count": null,
      "id": "8302a849",
      "metadata": {
        "id": "8302a849"
      },
      "outputs": [],
      "source": []
    },
    {
      "cell_type": "code",
      "execution_count": null,
      "id": "40a5acfc",
      "metadata": {
        "id": "40a5acfc"
      },
      "outputs": [],
      "source": []
    },
    {
      "cell_type": "code",
      "execution_count": null,
      "id": "b38fba10",
      "metadata": {
        "execution": {
          "iopub.execute_input": "2023-06-26T13:51:45.774514Z",
          "iopub.status.busy": "2023-06-26T13:51:45.773844Z",
          "iopub.status.idle": "2023-06-26T13:51:45.779725Z",
          "shell.execute_reply": "2023-06-26T13:51:45.778600Z"
        },
        "id": "b38fba10"
      },
      "outputs": [],
      "source": [
        "#============================== Volume Method Apply ============================================="
      ]
    },
    {
      "cell_type": "code",
      "execution_count": null,
      "id": "20a46d4b",
      "metadata": {
        "id": "20a46d4b"
      },
      "outputs": [],
      "source": []
    },
    {
      "cell_type": "code",
      "execution_count": null,
      "id": "ef014598",
      "metadata": {
        "id": "ef014598"
      },
      "outputs": [],
      "source": []
    },
    {
      "cell_type": "code",
      "execution_count": null,
      "id": "a0207425",
      "metadata": {
        "id": "a0207425"
      },
      "outputs": [],
      "source": []
    },
    {
      "cell_type": "code",
      "execution_count": null,
      "id": "7024f0d1",
      "metadata": {
        "execution": {
          "iopub.execute_input": "2023-06-26T13:51:45.792295Z",
          "iopub.status.busy": "2023-06-26T13:51:45.791677Z",
          "iopub.status.idle": "2023-06-26T13:51:51.092157Z",
          "shell.execute_reply": "2023-06-26T13:51:51.091053Z"
        },
        "id": "7024f0d1"
      },
      "outputs": [],
      "source": [
        "### good\n",
        "\n",
        "%run research\n",
        "TICKER = 'MSFT_price_merged'\n",
        "TARGET = 'return10'\n",
        "LIMIT = 1\n",
        "features = ['force_index_sentiment20_zscore10','zscore20']\n",
        "#features = ['positive_media2d','negative_media2d','positive_reddit2d','negative_reddit2d']\n",
        "\n",
        "buy_thres =.1\n",
        "\n",
        "sell_thres = -.1\n",
        "\n",
        "holdingperiod = int(TARGET[6:])\n",
        "\n",
        "\n",
        "\n",
        "\n",
        "traintest_dates = [[ '2021-06-10', '2023-01-30',  '2023-02-20', '2023-12-30']]\n",
        "\n",
        "df_zscore_xgb = backtest(LIMIT, TICKER, TARGET, features, buy_thres, sell_thres, holdingperiod, traintest_dates,\n",
        "                         posstyle = 'allin', model='LinearRegression')\n"
      ]
    },
    {
      "cell_type": "code",
      "execution_count": null,
      "id": "1d67dbd4",
      "metadata": {
        "execution": {
          "iopub.execute_input": "2023-06-26T13:51:51.101406Z",
          "iopub.status.busy": "2023-06-26T13:51:51.100747Z",
          "iopub.status.idle": "2023-06-26T13:51:56.161147Z",
          "shell.execute_reply": "2023-06-26T13:51:56.160175Z"
        },
        "id": "1d67dbd4"
      },
      "outputs": [],
      "source": [
        "### good\n",
        "\n",
        "%run research\n",
        "TICKER = 'MSFT_price_merged'\n",
        "TARGET = 'return10'\n",
        "LIMIT = 1\n",
        "features = ['force_index_sentiment20_zscore10','zscore20']\n",
        "#features = ['positive_media2d','negative_media2d','positive_reddit2d','negative_reddit2d']\n",
        "\n",
        "buy_thres =.1\n",
        "\n",
        "sell_thres = -100\n",
        "\n",
        "holdingperiod = int(TARGET[6:])\n",
        "\n",
        "\n",
        "\n",
        "\n",
        "traintest_dates = [[ '2021-06-10', '2023-01-30',  '2023-02-20', '2023-12-30']]\n",
        "\n",
        "df_zscore_xgb = backtest(LIMIT, TICKER, TARGET, features, buy_thres, sell_thres, holdingperiod, traintest_dates,\n",
        "                         posstyle = 'allin', model='LinearRegression')\n"
      ]
    },
    {
      "cell_type": "code",
      "execution_count": null,
      "id": "ff178b00",
      "metadata": {
        "execution": {
          "iopub.execute_input": "2023-06-26T13:51:56.169059Z",
          "iopub.status.busy": "2023-06-26T13:51:56.168452Z",
          "iopub.status.idle": "2023-06-26T13:52:00.852388Z",
          "shell.execute_reply": "2023-06-26T13:52:00.851459Z"
        },
        "scrolled": true,
        "id": "ff178b00"
      },
      "outputs": [],
      "source": [
        "### good\n",
        "\n",
        "%run research\n",
        "TICKER = 'MSFT_price_merged'\n",
        "TARGET = 'return10'\n",
        "LIMIT = 1\n",
        "features = ['NVI_sentiment20_zscore20']\n",
        "#features = ['positive_media2d','negative_media2d','positive_reddit2d','negative_reddit2d']\n",
        "\n",
        "buy_thres =.1\n",
        "\n",
        "sell_thres = -.1\n",
        "\n",
        "holdingperiod = int(TARGET[6:])\n",
        "\n",
        "\n",
        "\n",
        "\n",
        "traintest_dates = [[ '2021-06-10', '2023-01-30',  '2023-02-20', '2023-12-30']]\n",
        "\n",
        "df_zscore_xgb = backtest(LIMIT, TICKER, TARGET, features, buy_thres, sell_thres, holdingperiod, traintest_dates,\n",
        "                         posstyle = 'allin', model='LinearRegression')\n"
      ]
    },
    {
      "cell_type": "code",
      "execution_count": null,
      "id": "d22261a4",
      "metadata": {
        "execution": {
          "iopub.execute_input": "2023-06-26T13:52:00.861094Z",
          "iopub.status.busy": "2023-06-26T13:52:00.860582Z",
          "iopub.status.idle": "2023-06-26T13:52:05.479597Z",
          "shell.execute_reply": "2023-06-26T13:52:05.478710Z"
        },
        "scrolled": true,
        "id": "d22261a4"
      },
      "outputs": [],
      "source": [
        "### good\n",
        "\n",
        "%run research\n",
        "TICKER = 'MSFT_price_merged'\n",
        "TARGET = 'return10'\n",
        "LIMIT = 1\n",
        "features = ['NVI_sentiment20_zscore20']\n",
        "#features = ['positive_media2d','negative_media2d','positive_reddit2d','negative_reddit2d']\n",
        "\n",
        "buy_thres =.1\n",
        "\n",
        "sell_thres = -100\n",
        "\n",
        "holdingperiod = int(TARGET[6:])\n",
        "\n",
        "\n",
        "\n",
        "\n",
        "traintest_dates = [[ '2021-06-10', '2023-01-30',  '2023-02-20', '2023-12-30']]\n",
        "\n",
        "df_zscore_xgb = backtest(LIMIT, TICKER, TARGET, features, buy_thres, sell_thres, holdingperiod, traintest_dates,\n",
        "                         posstyle = 'allin', model='LinearRegression')\n"
      ]
    },
    {
      "cell_type": "code",
      "execution_count": null,
      "id": "947aca7d",
      "metadata": {
        "execution": {
          "iopub.execute_input": "2023-06-26T13:52:05.486932Z",
          "iopub.status.busy": "2023-06-26T13:52:05.486379Z",
          "iopub.status.idle": "2023-06-26T13:52:10.425827Z",
          "shell.execute_reply": "2023-06-26T13:52:10.424899Z"
        },
        "scrolled": true,
        "id": "947aca7d"
      },
      "outputs": [],
      "source": [
        "### good\n",
        "\n",
        "%run research\n",
        "TICKER = 'MSFT_price_merged'\n",
        "TARGET = 'return10'\n",
        "LIMIT = 1\n",
        "features = ['PVI_1_sentiment20']\n",
        "#features = ['positive_media2d','negative_media2d','positive_reddit2d','negative_reddit2d']\n",
        "\n",
        "buy_thres =.1\n",
        "\n",
        "sell_thres = -.1\n",
        "\n",
        "holdingperiod = int(TARGET[6:])\n",
        "\n",
        "\n",
        "\n",
        "\n",
        "traintest_dates = [[ '2021-06-10', '2023-01-30',  '2023-02-20', '2023-12-30']]\n",
        "\n",
        "df_zscore_xgb = backtest(LIMIT, TICKER, TARGET, features, buy_thres, sell_thres, holdingperiod, traintest_dates,\n",
        "                         posstyle = 'allin', model='LinearRegression')\n"
      ]
    },
    {
      "cell_type": "code",
      "execution_count": null,
      "id": "c9229339",
      "metadata": {
        "execution": {
          "iopub.execute_input": "2023-06-26T13:52:10.431379Z",
          "iopub.status.busy": "2023-06-26T13:52:10.430897Z",
          "iopub.status.idle": "2023-06-26T13:52:15.546267Z",
          "shell.execute_reply": "2023-06-26T13:52:15.545122Z"
        },
        "scrolled": true,
        "id": "c9229339"
      },
      "outputs": [],
      "source": [
        "### good\n",
        "\n",
        "%run research\n",
        "TICKER = 'MSFT_price_merged'\n",
        "TARGET = 'return10'\n",
        "LIMIT = 1\n",
        "features = ['PVI_1_sentiment20']\n",
        "#features = ['positive_media2d','negative_media2d','positive_reddit2d','negative_reddit2d']\n",
        "\n",
        "buy_thres =.1\n",
        "\n",
        "sell_thres = -100\n",
        "\n",
        "holdingperiod = int(TARGET[6:])\n",
        "\n",
        "\n",
        "\n",
        "\n",
        "traintest_dates = [[ '2021-06-10', '2023-01-30',  '2023-02-20', '2023-12-30']]\n",
        "\n",
        "df_zscore_xgb = backtest(LIMIT, TICKER, TARGET, features, buy_thres, sell_thres, holdingperiod, traintest_dates,\n",
        "                         posstyle = 'allin', model='LinearRegression')\n"
      ]
    },
    {
      "cell_type": "code",
      "execution_count": null,
      "id": "6ce5b213",
      "metadata": {
        "execution": {
          "iopub.execute_input": "2023-06-26T13:52:15.555686Z",
          "iopub.status.busy": "2023-06-26T13:52:15.554805Z",
          "iopub.status.idle": "2023-06-26T13:52:21.974954Z",
          "shell.execute_reply": "2023-06-26T13:52:21.974094Z"
        },
        "scrolled": true,
        "id": "6ce5b213"
      },
      "outputs": [],
      "source": [
        "### good\n",
        "\n",
        "%run research\n",
        "TICKER = 'MSFT_price_merged'\n",
        "TARGET = 'return10'\n",
        "LIMIT = 1\n",
        "features = ['VPT_sentiment20_zscore20']\n",
        "#features = ['positive_media2d','negative_media2d','positive_reddit2d','negative_reddit2d']\n",
        "\n",
        "buy_thres =.1\n",
        "\n",
        "sell_thres = -.1\n",
        "\n",
        "holdingperiod = int(TARGET[6:])\n",
        "\n",
        "\n",
        "\n",
        "\n",
        "traintest_dates = [[ '2021-06-10', '2023-01-30',  '2023-02-20', '2023-12-30']]\n",
        "\n",
        "df_zscore_xgb = backtest(LIMIT, TICKER, TARGET, features, buy_thres, sell_thres, holdingperiod, traintest_dates,\n",
        "                         posstyle = 'allin', model='LinearRegression')\n"
      ]
    },
    {
      "cell_type": "code",
      "execution_count": null,
      "id": "afaaaa65",
      "metadata": {
        "execution": {
          "iopub.execute_input": "2023-06-26T13:52:21.983684Z",
          "iopub.status.busy": "2023-06-26T13:52:21.983146Z",
          "iopub.status.idle": "2023-06-26T13:52:26.686847Z",
          "shell.execute_reply": "2023-06-26T13:52:26.685992Z"
        },
        "scrolled": true,
        "id": "afaaaa65"
      },
      "outputs": [],
      "source": [
        "### good\n",
        "\n",
        "%run research\n",
        "TICKER = 'MSFT_price_merged'\n",
        "TARGET = 'return10'\n",
        "LIMIT = 1\n",
        "features = ['VPT_sentiment20_zscore20']\n",
        "#features = ['positive_media2d','negative_media2d','positive_reddit2d','negative_reddit2d']\n",
        "\n",
        "buy_thres =.1\n",
        "\n",
        "sell_thres = -100\n",
        "\n",
        "holdingperiod = int(TARGET[6:])\n",
        "\n",
        "\n",
        "\n",
        "\n",
        "traintest_dates = [[ '2021-06-10', '2023-01-30',  '2023-02-20', '2023-12-30']]\n",
        "\n",
        "df_zscore_xgb = backtest(LIMIT, TICKER, TARGET, features, buy_thres, sell_thres, holdingperiod, traintest_dates,\n",
        "                         posstyle = 'allin', model='LinearRegression')\n"
      ]
    },
    {
      "cell_type": "code",
      "execution_count": null,
      "id": "a65b4bb9",
      "metadata": {
        "execution": {
          "iopub.execute_input": "2023-06-26T13:52:26.692615Z",
          "iopub.status.busy": "2023-06-26T13:52:26.692137Z",
          "iopub.status.idle": "2023-06-26T13:52:31.399317Z",
          "shell.execute_reply": "2023-06-26T13:52:31.398101Z"
        },
        "scrolled": true,
        "id": "a65b4bb9"
      },
      "outputs": [],
      "source": [
        "### good\n",
        "\n",
        "%run research\n",
        "TICKER = 'MSFT_price_merged'\n",
        "TARGET = 'return10'\n",
        "LIMIT = 1\n",
        "features = ['OBV_sentiment20_zscore20']\n",
        "#features = ['positive_media2d','negative_media2d','positive_reddit2d','negative_reddit2d']\n",
        "\n",
        "buy_thres =.1\n",
        "\n",
        "sell_thres = -.1\n",
        "\n",
        "holdingperiod = int(TARGET[6:])\n",
        "\n",
        "\n",
        "\n",
        "\n",
        "traintest_dates = [[ '2021-06-10', '2023-01-30',  '2023-02-20', '2023-12-30']]\n",
        "\n",
        "df_zscore_xgb = backtest(LIMIT, TICKER, TARGET, features, buy_thres, sell_thres, holdingperiod, traintest_dates,\n",
        "                         posstyle = 'allin', model='LinearRegression')\n"
      ]
    },
    {
      "cell_type": "code",
      "execution_count": null,
      "id": "7dc0fb4f",
      "metadata": {
        "execution": {
          "iopub.execute_input": "2023-06-26T13:52:31.407734Z",
          "iopub.status.busy": "2023-06-26T13:52:31.407011Z",
          "iopub.status.idle": "2023-06-26T13:52:36.071054Z",
          "shell.execute_reply": "2023-06-26T13:52:36.070161Z"
        },
        "scrolled": true,
        "id": "7dc0fb4f"
      },
      "outputs": [],
      "source": [
        "### good\n",
        "\n",
        "%run research\n",
        "TICKER = 'MSFT_price_merged'\n",
        "TARGET = 'return10'\n",
        "LIMIT = 1\n",
        "features = ['OBV_sentiment20_zscore20']\n",
        "#features = ['positive_media2d','negative_media2d','positive_reddit2d','negative_reddit2d']\n",
        "\n",
        "buy_thres =.1\n",
        "\n",
        "sell_thres = -100\n",
        "\n",
        "holdingperiod = int(TARGET[6:])\n",
        "\n",
        "\n",
        "\n",
        "\n",
        "traintest_dates = [[ '2021-06-10', '2023-01-30',  '2023-02-20', '2023-12-30']]\n",
        "\n",
        "df_zscore_xgb = backtest(LIMIT, TICKER, TARGET, features, buy_thres, sell_thres, holdingperiod, traintest_dates,\n",
        "                         posstyle = 'allin', model='LinearRegression')\n"
      ]
    },
    {
      "cell_type": "code",
      "execution_count": null,
      "id": "7fba3257",
      "metadata": {
        "execution": {
          "iopub.execute_input": "2023-06-26T13:52:36.080129Z",
          "iopub.status.busy": "2023-06-26T13:52:36.078984Z",
          "iopub.status.idle": "2023-06-26T13:52:40.911336Z",
          "shell.execute_reply": "2023-06-26T13:52:40.910350Z"
        },
        "scrolled": true,
        "id": "7fba3257"
      },
      "outputs": [],
      "source": [
        "### good\n",
        "\n",
        "%run research\n",
        "TICKER = 'MSFT_price_merged'\n",
        "TARGET = 'return10'\n",
        "LIMIT = 1\n",
        "features = ['AccumulationDistribution_sentiment20_zscore20']\n",
        "#features = ['positive_media2d','negative_media2d','positive_reddit2d','negative_reddit2d']\n",
        "\n",
        "buy_thres =.1\n",
        "\n",
        "sell_thres = -.1\n",
        "\n",
        "holdingperiod = int(TARGET[6:])\n",
        "\n",
        "\n",
        "\n",
        "\n",
        "traintest_dates = [[ '2021-06-10', '2023-01-30',  '2023-02-20', '2023-12-30']]\n",
        "\n",
        "df_zscore_xgb = backtest(LIMIT, TICKER, TARGET, features, buy_thres, sell_thres, holdingperiod, traintest_dates,\n",
        "                         posstyle = 'allin', model='LinearRegression')\n"
      ]
    },
    {
      "cell_type": "code",
      "execution_count": null,
      "id": "c1e03358",
      "metadata": {
        "execution": {
          "iopub.execute_input": "2023-06-26T13:52:40.920235Z",
          "iopub.status.busy": "2023-06-26T13:52:40.919477Z",
          "iopub.status.idle": "2023-06-26T13:52:45.621384Z",
          "shell.execute_reply": "2023-06-26T13:52:45.620145Z"
        },
        "scrolled": true,
        "id": "c1e03358"
      },
      "outputs": [],
      "source": [
        "### good\n",
        "\n",
        "%run research\n",
        "TICKER = 'MSFT_price_merged'\n",
        "TARGET = 'return10'\n",
        "LIMIT = 1\n",
        "features = ['AccumulationDistribution_sentiment20_zscore20']\n",
        "#features = ['positive_media2d','negative_media2d','positive_reddit2d','negative_reddit2d']\n",
        "\n",
        "buy_thres =.1\n",
        "\n",
        "sell_thres = -100\n",
        "\n",
        "holdingperiod = int(TARGET[6:])\n",
        "\n",
        "\n",
        "\n",
        "\n",
        "traintest_dates = [[ '2021-06-10', '2023-01-30',  '2023-02-20', '2023-12-30']]\n",
        "\n",
        "df_zscore_xgb = backtest(LIMIT, TICKER, TARGET, features, buy_thres, sell_thres, holdingperiod, traintest_dates,\n",
        "                         posstyle = 'allin', model='LinearRegression')\n"
      ]
    },
    {
      "cell_type": "code",
      "execution_count": null,
      "id": "c07ef344",
      "metadata": {
        "execution": {
          "iopub.execute_input": "2023-06-26T13:52:45.628416Z",
          "iopub.status.busy": "2023-06-26T13:52:45.627912Z",
          "iopub.status.idle": "2023-06-26T13:52:50.690843Z",
          "shell.execute_reply": "2023-06-26T13:52:50.689904Z"
        },
        "scrolled": true,
        "id": "c07ef344"
      },
      "outputs": [],
      "source": [
        "### good\n",
        "\n",
        "%run research\n",
        "TICKER = 'MSFT_price_merged'\n",
        "TARGET = 'return10'\n",
        "LIMIT = 1\n",
        "features = ['OII_sentiment20']\n",
        "#features = ['positive_media2d','negative_media2d','positive_reddit2d','negative_reddit2d']\n",
        "\n",
        "buy_thres =.1\n",
        "\n",
        "sell_thres = -.1\n",
        "\n",
        "holdingperiod = int(TARGET[6:])\n",
        "\n",
        "\n",
        "\n",
        "\n",
        "traintest_dates = [[ '2021-06-10', '2023-01-30',  '2023-02-20', '2023-12-30']]\n",
        "\n",
        "df_zscore_xgb = backtest(LIMIT, TICKER, TARGET, features, buy_thres, sell_thres, holdingperiod, traintest_dates,\n",
        "                         posstyle = 'allin', model='LinearRegression')\n"
      ]
    },
    {
      "cell_type": "code",
      "execution_count": null,
      "id": "8ab47e39",
      "metadata": {
        "execution": {
          "iopub.execute_input": "2023-06-26T13:52:50.697165Z",
          "iopub.status.busy": "2023-06-26T13:52:50.696664Z",
          "iopub.status.idle": "2023-06-26T13:52:55.491684Z",
          "shell.execute_reply": "2023-06-26T13:52:55.490795Z"
        },
        "scrolled": true,
        "id": "8ab47e39"
      },
      "outputs": [],
      "source": [
        "### good\n",
        "\n",
        "%run research\n",
        "TICKER = 'MSFT_price_merged'\n",
        "TARGET = 'return10'\n",
        "LIMIT = 1\n",
        "features = ['OII_sentiment20']\n",
        "#features = ['positive_media2d','negative_media2d','positive_reddit2d','negative_reddit2d']\n",
        "\n",
        "buy_thres =.1\n",
        "\n",
        "sell_thres = -100\n",
        "\n",
        "holdingperiod = int(TARGET[6:])\n",
        "\n",
        "\n",
        "\n",
        "\n",
        "traintest_dates = [[ '2021-06-10', '2023-01-30',  '2023-02-20', '2023-12-30']]\n",
        "\n",
        "df_zscore_xgb = backtest(LIMIT, TICKER, TARGET, features, buy_thres, sell_thres, holdingperiod, traintest_dates,\n",
        "                         posstyle = 'allin', model='LinearRegression')\n"
      ]
    },
    {
      "cell_type": "code",
      "execution_count": null,
      "id": "48c13a1c",
      "metadata": {
        "execution": {
          "iopub.execute_input": "2023-06-26T13:52:55.500072Z",
          "iopub.status.busy": "2023-06-26T13:52:55.499469Z",
          "iopub.status.idle": "2023-06-26T13:53:00.217653Z",
          "shell.execute_reply": "2023-06-26T13:53:00.216731Z"
        },
        "scrolled": true,
        "id": "48c13a1c"
      },
      "outputs": [],
      "source": [
        "### good\n",
        "\n",
        "%run research\n",
        "TICKER = 'MSFT_price_merged'\n",
        "TARGET = 'return10'\n",
        "LIMIT = 1\n",
        "features = ['CTV_sentiment20_zscore20']\n",
        "#features = ['positive_media2d','negative_media2d','positive_reddit2d','negative_reddit2d']\n",
        "\n",
        "buy_thres =.1\n",
        "\n",
        "sell_thres = -.1\n",
        "\n",
        "holdingperiod = int(TARGET[6:])\n",
        "\n",
        "\n",
        "\n",
        "\n",
        "traintest_dates = [[ '2021-06-10', '2023-01-30',  '2023-02-20', '2023-12-30']]\n",
        "\n",
        "df_zscore_xgb = backtest(LIMIT, TICKER, TARGET, features, buy_thres, sell_thres, holdingperiod, traintest_dates,\n",
        "                         posstyle = 'allin', model='LinearRegression')\n"
      ]
    },
    {
      "cell_type": "code",
      "execution_count": null,
      "id": "2b00cd5c",
      "metadata": {
        "execution": {
          "iopub.execute_input": "2023-06-26T13:53:00.225402Z",
          "iopub.status.busy": "2023-06-26T13:53:00.224861Z",
          "iopub.status.idle": "2023-06-26T13:53:04.808241Z",
          "shell.execute_reply": "2023-06-26T13:53:04.807378Z"
        },
        "scrolled": true,
        "id": "2b00cd5c"
      },
      "outputs": [],
      "source": [
        "### good\n",
        "\n",
        "%run research\n",
        "TICKER = 'MSFT_price_merged'\n",
        "TARGET = 'return10'\n",
        "LIMIT = 1\n",
        "features = ['CTV_sentiment20_zscore20']\n",
        "#features = ['positive_media2d','negative_media2d','positive_reddit2d','negative_reddit2d']\n",
        "\n",
        "buy_thres =.1\n",
        "\n",
        "sell_thres = -100\n",
        "\n",
        "holdingperiod = int(TARGET[6:])\n",
        "\n",
        "\n",
        "\n",
        "\n",
        "traintest_dates = [[ '2021-06-10', '2023-01-30',  '2023-02-20', '2023-12-30']]\n",
        "\n",
        "df_zscore_xgb = backtest(LIMIT, TICKER, TARGET, features, buy_thres, sell_thres, holdingperiod, traintest_dates,\n",
        "                         posstyle = 'allin', model='LinearRegression')\n"
      ]
    },
    {
      "cell_type": "code",
      "execution_count": null,
      "id": "c6237adc",
      "metadata": {
        "execution": {
          "iopub.execute_input": "2023-06-26T13:53:04.815209Z",
          "iopub.status.busy": "2023-06-26T13:53:04.814647Z",
          "iopub.status.idle": "2023-06-26T13:53:10.118293Z",
          "shell.execute_reply": "2023-06-26T13:53:10.117360Z"
        },
        "scrolled": true,
        "id": "c6237adc"
      },
      "outputs": [],
      "source": [
        "### good\n",
        "\n",
        "%run research\n",
        "TICKER = 'MSFT_price_merged'\n",
        "TARGET = 'return10'\n",
        "LIMIT = 1\n",
        "features = ['OIR_sentiment20']\n",
        "#features = ['positive_media2d','negative_media2d','positive_reddit2d','negative_reddit2d']\n",
        "\n",
        "buy_thres =.1\n",
        "\n",
        "sell_thres = -.1\n",
        "\n",
        "holdingperiod = int(TARGET[6:])\n",
        "\n",
        "\n",
        "\n",
        "\n",
        "traintest_dates = [[ '2021-06-10', '2023-01-30',  '2023-02-20', '2023-12-30']]\n",
        "\n",
        "df_zscore_xgb = backtest(LIMIT, TICKER, TARGET, features, buy_thres, sell_thres, holdingperiod, traintest_dates,\n",
        "                         posstyle = 'allin', model='LinearRegression')\n"
      ]
    },
    {
      "cell_type": "code",
      "execution_count": null,
      "id": "32222deb",
      "metadata": {
        "execution": {
          "iopub.execute_input": "2023-06-26T13:53:10.125481Z",
          "iopub.status.busy": "2023-06-26T13:53:10.124823Z",
          "iopub.status.idle": "2023-06-26T13:53:15.248666Z",
          "shell.execute_reply": "2023-06-26T13:53:15.247618Z"
        },
        "scrolled": true,
        "id": "32222deb"
      },
      "outputs": [],
      "source": [
        "### good\n",
        "\n",
        "%run research\n",
        "TICKER = 'MSFT_price_merged'\n",
        "TARGET = 'return10'\n",
        "LIMIT = 1\n",
        "features = ['OIR_sentiment20']\n",
        "#features = ['positive_media2d','negative_media2d','positive_reddit2d','negative_reddit2d']\n",
        "\n",
        "buy_thres =.1\n",
        "\n",
        "sell_thres = -100\n",
        "\n",
        "holdingperiod = int(TARGET[6:])\n",
        "\n",
        "\n",
        "\n",
        "\n",
        "traintest_dates = [[ '2021-06-10', '2023-01-30',  '2023-02-20', '2023-12-30']]\n",
        "\n",
        "df_zscore_xgb = backtest(LIMIT, TICKER, TARGET, features, buy_thres, sell_thres, holdingperiod, traintest_dates,\n",
        "                         posstyle = 'allin', model='LinearRegression')\n"
      ]
    },
    {
      "cell_type": "code",
      "execution_count": null,
      "id": "dca59999",
      "metadata": {
        "execution": {
          "iopub.execute_input": "2023-06-26T13:53:15.256277Z",
          "iopub.status.busy": "2023-06-26T13:53:15.255710Z",
          "iopub.status.idle": "2023-06-26T13:53:20.400296Z",
          "shell.execute_reply": "2023-06-26T13:53:20.399385Z"
        },
        "id": "dca59999"
      },
      "outputs": [],
      "source": [
        "### good\n",
        "\n",
        "%run research\n",
        "TICKER = 'MSFT_price_merged'\n",
        "TARGET = 'return10'\n",
        "LIMIT = 1\n",
        "features = ['zscore20','sentiment3x2d']\n",
        "#features = ['positive_media2d','negative_media2d','positive_reddit2d','negative_reddit2d']\n",
        "\n",
        "buy_thres =.1\n",
        "\n",
        "sell_thres = -.1\n",
        "\n",
        "holdingperiod = int(TARGET[6:])\n",
        "\n",
        "\n",
        "\n",
        "\n",
        "traintest_dates = [[ '2021-06-10', '2023-01-30',  '2023-02-20', '2023-12-30']]\n",
        "\n",
        "df_zscore_xgb = backtest(LIMIT, TICKER, TARGET, features, buy_thres, sell_thres, holdingperiod, traintest_dates,\n",
        "                         posstyle = 'allin', model='LinearRegression')\n"
      ]
    },
    {
      "cell_type": "code",
      "execution_count": null,
      "id": "48b644dc",
      "metadata": {
        "execution": {
          "iopub.execute_input": "2023-06-26T13:53:20.408626Z",
          "iopub.status.busy": "2023-06-26T13:53:20.408098Z",
          "iopub.status.idle": "2023-06-26T13:53:25.344425Z",
          "shell.execute_reply": "2023-06-26T13:53:25.343551Z"
        },
        "id": "48b644dc"
      },
      "outputs": [],
      "source": [
        "### good\n",
        "\n",
        "%run research\n",
        "TICKER = 'MSFT_price_merged'\n",
        "TARGET = 'return10'\n",
        "LIMIT = 1\n",
        "features = ['zscore20','sentiment3x2d']\n",
        "#features = ['positive_media2d','negative_media2d','positive_reddit2d','negative_reddit2d']\n",
        "\n",
        "buy_thres =.1\n",
        "\n",
        "sell_thres = -100\n",
        "\n",
        "holdingperiod = int(TARGET[6:])\n",
        "\n",
        "\n",
        "\n",
        "\n",
        "traintest_dates = [[ '2021-06-10', '2023-01-30',  '2023-02-20', '2023-12-30']]\n",
        "\n",
        "df_zscore_xgb = backtest(LIMIT, TICKER, TARGET, features, buy_thres, sell_thres, holdingperiod, traintest_dates,\n",
        "                         posstyle = 'allin', model='LinearRegression')\n"
      ]
    },
    {
      "cell_type": "code",
      "execution_count": null,
      "id": "f3659485",
      "metadata": {
        "execution": {
          "iopub.execute_input": "2023-06-26T13:53:25.351999Z",
          "iopub.status.busy": "2023-06-26T13:53:25.351469Z",
          "iopub.status.idle": "2023-06-26T13:53:31.065214Z",
          "shell.execute_reply": "2023-06-26T13:53:31.063914Z"
        },
        "id": "f3659485"
      },
      "outputs": [],
      "source": [
        "### good\n",
        "\n",
        "%run research\n",
        "TICKER = 'MSFT_price_merged'\n",
        "TARGET = 'return10'\n",
        "LIMIT = 1\n",
        "features = ['zscore20','sentiment3x2d','OIR_sentiment20']\n",
        "#features = ['positive_media2d','negative_media2d','positive_reddit2d','negative_reddit2d']\n",
        "\n",
        "buy_thres =.1\n",
        "\n",
        "sell_thres = -.1\n",
        "\n",
        "holdingperiod = int(TARGET[6:])\n",
        "\n",
        "\n",
        "\n",
        "\n",
        "traintest_dates = [[ '2021-06-10', '2023-01-30',  '2023-02-20', '2023-12-30']]\n",
        "\n",
        "df_zscore_xgb = backtest(LIMIT, TICKER, TARGET, features, buy_thres, sell_thres, holdingperiod, traintest_dates,\n",
        "                         posstyle = 'allin', model='LinearRegression')\n"
      ]
    },
    {
      "cell_type": "code",
      "execution_count": null,
      "id": "50c4cd88",
      "metadata": {
        "execution": {
          "iopub.execute_input": "2023-06-26T13:53:31.072233Z",
          "iopub.status.busy": "2023-06-26T13:53:31.071712Z",
          "iopub.status.idle": "2023-06-26T13:53:36.573107Z",
          "shell.execute_reply": "2023-06-26T13:53:36.572186Z"
        },
        "id": "50c4cd88"
      },
      "outputs": [],
      "source": [
        "### good\n",
        "\n",
        "%run research\n",
        "TICKER = 'MSFT_price_merged'\n",
        "TARGET = 'return10'\n",
        "LIMIT = 1\n",
        "features = ['zscore20','sentiment3x2d','OIR_sentiment20']\n",
        "#features = ['positive_media2d','negative_media2d','positive_reddit2d','negative_reddit2d']\n",
        "\n",
        "buy_thres =.1\n",
        "\n",
        "sell_thres = -100\n",
        "\n",
        "holdingperiod = int(TARGET[6:])\n",
        "\n",
        "\n",
        "\n",
        "\n",
        "traintest_dates = [[ '2021-06-10', '2023-01-30',  '2023-02-20', '2023-12-30']]\n",
        "\n",
        "df_zscore_xgb = backtest(LIMIT, TICKER, TARGET, features, buy_thres, sell_thres, holdingperiod, traintest_dates,\n",
        "                         posstyle = 'allin', model='LinearRegression')\n"
      ]
    },
    {
      "cell_type": "code",
      "execution_count": null,
      "id": "2c21343e",
      "metadata": {
        "execution": {
          "iopub.execute_input": "2023-06-26T13:53:36.580577Z",
          "iopub.status.busy": "2023-06-26T13:53:36.579884Z",
          "iopub.status.idle": "2023-06-26T13:53:42.014612Z",
          "shell.execute_reply": "2023-06-26T13:53:42.013691Z"
        },
        "id": "2c21343e"
      },
      "outputs": [],
      "source": [
        "### good\n",
        "\n",
        "%run research\n",
        "TICKER = 'MSFT_price_merged'\n",
        "TARGET = 'return10'\n",
        "LIMIT = 1\n",
        "features = ['zscore20','sentiment3x2d','OBV_sentiment20']\n",
        "#features = ['positive_media2d','negative_media2d','positive_reddit2d','negative_reddit2d']\n",
        "\n",
        "buy_thres =.1\n",
        "\n",
        "sell_thres = -.1\n",
        "\n",
        "holdingperiod = int(TARGET[6:])\n",
        "\n",
        "\n",
        "\n",
        "\n",
        "traintest_dates = [[ '2021-06-10', '2023-01-30',  '2023-02-20', '2023-12-30']]\n",
        "\n",
        "df_zscore_xgb = backtest(LIMIT, TICKER, TARGET, features, buy_thres, sell_thres, holdingperiod, traintest_dates,\n",
        "                         posstyle = 'allin', model='LinearRegression')\n"
      ]
    },
    {
      "cell_type": "code",
      "execution_count": null,
      "id": "024aaa18",
      "metadata": {
        "execution": {
          "iopub.execute_input": "2023-06-26T13:53:42.021838Z",
          "iopub.status.busy": "2023-06-26T13:53:42.021292Z",
          "iopub.status.idle": "2023-06-26T13:53:47.423475Z",
          "shell.execute_reply": "2023-06-26T13:53:47.422295Z"
        },
        "id": "024aaa18"
      },
      "outputs": [],
      "source": [
        "### good\n",
        "\n",
        "%run research\n",
        "TICKER = 'MSFT_price_merged'\n",
        "TARGET = 'return10'\n",
        "LIMIT = 1\n",
        "features = ['zscore20','sentiment3x2d','OBV_sentiment20']\n",
        "#features = ['positive_media2d','negative_media2d','positive_reddit2d','negative_reddit2d']\n",
        "\n",
        "buy_thres =.1\n",
        "\n",
        "sell_thres = -100\n",
        "\n",
        "holdingperiod = int(TARGET[6:])\n",
        "\n",
        "\n",
        "\n",
        "\n",
        "traintest_dates = [[ '2021-06-10', '2023-01-30',  '2023-02-20', '2023-12-30']]\n",
        "\n",
        "df_zscore_xgb = backtest(LIMIT, TICKER, TARGET, features, buy_thres, sell_thres, holdingperiod, traintest_dates,\n",
        "                         posstyle = 'allin', model='LinearRegression')\n"
      ]
    },
    {
      "cell_type": "code",
      "execution_count": null,
      "id": "c8d3596b",
      "metadata": {
        "execution": {
          "iopub.execute_input": "2023-06-26T13:53:47.432293Z",
          "iopub.status.busy": "2023-06-26T13:53:47.431661Z",
          "iopub.status.idle": "2023-06-26T13:53:53.724471Z",
          "shell.execute_reply": "2023-06-26T13:53:53.722740Z"
        },
        "id": "c8d3596b"
      },
      "outputs": [],
      "source": [
        "### good\n",
        "\n",
        "%run research\n",
        "TICKER = 'MSFT_price_merged'\n",
        "TARGET = 'return10'\n",
        "LIMIT = 1\n",
        "features = ['zscore20','sentiment3x2d','OIR_sentiment20','OII_volume20',]\n",
        "#features = ['positive_media2d','negative_media2d','positive_reddit2d','negative_reddit2d']\n",
        "\n",
        "buy_thres =.1\n",
        "\n",
        "sell_thres = -.1\n",
        "\n",
        "holdingperiod = int(TARGET[6:])\n",
        "\n",
        "\n",
        "\n",
        "\n",
        "traintest_dates = [[ '2021-06-10', '2023-01-30',  '2023-02-20', '2023-12-30']]\n",
        "\n",
        "df_zscore_xgb = backtest(LIMIT, TICKER, TARGET, features, buy_thres, sell_thres, holdingperiod, traintest_dates,\n",
        "                         posstyle = 'allin', model='LinearRegression')\n"
      ]
    },
    {
      "cell_type": "code",
      "execution_count": null,
      "id": "e8341396",
      "metadata": {
        "execution": {
          "iopub.execute_input": "2023-06-26T13:53:53.738063Z",
          "iopub.status.busy": "2023-06-26T13:53:53.737326Z",
          "iopub.status.idle": "2023-06-26T13:54:00.201297Z",
          "shell.execute_reply": "2023-06-26T13:54:00.199724Z"
        },
        "id": "e8341396"
      },
      "outputs": [],
      "source": [
        "### good\n",
        "\n",
        "%run research\n",
        "TICKER = 'MSFT_price_merged'\n",
        "TARGET = 'return10'\n",
        "LIMIT = 1\n",
        "features = ['zscore20','sentiment3x2d','OIR_sentiment20','OII_volume20',]\n",
        "#features = ['positive_media2d','negative_media2d','positive_reddit2d','negative_reddit2d']\n",
        "\n",
        "buy_thres =.1\n",
        "\n",
        "sell_thres = -100\n",
        "\n",
        "holdingperiod = int(TARGET[6:])\n",
        "\n",
        "\n",
        "\n",
        "\n",
        "traintest_dates = [[ '2021-06-10', '2023-01-30',  '2023-02-20', '2023-12-30']]\n",
        "\n",
        "df_zscore_xgb = backtest(LIMIT, TICKER, TARGET, features, buy_thres, sell_thres, holdingperiod, traintest_dates,\n",
        "                         posstyle = 'allin', model='LinearRegression')\n"
      ]
    },
    {
      "cell_type": "code",
      "execution_count": null,
      "id": "959cfef7",
      "metadata": {
        "execution": {
          "iopub.execute_input": "2023-06-26T13:54:00.209214Z",
          "iopub.status.busy": "2023-06-26T13:54:00.208695Z",
          "iopub.status.idle": "2023-06-26T13:54:06.485711Z",
          "shell.execute_reply": "2023-06-26T13:54:06.484533Z"
        },
        "id": "959cfef7"
      },
      "outputs": [],
      "source": [
        "### good\n",
        "\n",
        "%run research\n",
        "TICKER = 'MSFT_price_merged'\n",
        "TARGET = 'return10'\n",
        "LIMIT = 1\n",
        "features = ['zscore20','sentiment3x2d','OIR_sentiment20','OII_sentiment20','OBV_volume20']\n",
        "#features = ['positive_media2d','negative_media2d','positive_reddit2d','negative_reddit2d']\n",
        "\n",
        "buy_thres =.1\n",
        "\n",
        "sell_thres = -.1\n",
        "\n",
        "holdingperiod = int(TARGET[6:])\n",
        "\n",
        "\n",
        "\n",
        "\n",
        "traintest_dates = [[ '2021-06-10', '2023-01-30',  '2023-02-20', '2023-12-30']]\n",
        "\n",
        "df_zscore_xgb = backtest(LIMIT, TICKER, TARGET, features, buy_thres, sell_thres, holdingperiod, traintest_dates,\n",
        "                         posstyle = 'allin', model='LinearRegression')\n"
      ]
    },
    {
      "cell_type": "code",
      "execution_count": null,
      "id": "f0d920c6",
      "metadata": {
        "execution": {
          "iopub.execute_input": "2023-06-26T13:54:06.496932Z",
          "iopub.status.busy": "2023-06-26T13:54:06.496281Z",
          "iopub.status.idle": "2023-06-26T13:54:12.990949Z",
          "shell.execute_reply": "2023-06-26T13:54:12.989715Z"
        },
        "id": "f0d920c6"
      },
      "outputs": [],
      "source": [
        "### good\n",
        "\n",
        "%run research\n",
        "TICKER = 'MSFT_price_merged'\n",
        "TARGET = 'return10'\n",
        "LIMIT = 1\n",
        "features = ['zscore20','sentiment3x2d','OIR_sentiment20','OII_sentiment20','OBV_volume20']\n",
        "#features = ['positive_media2d','negative_media2d','positive_reddit2d','negative_reddit2d']\n",
        "\n",
        "buy_thres =.1\n",
        "\n",
        "sell_thres = -.1\n",
        "\n",
        "holdingperiod = int(TARGET[6:])\n",
        "\n",
        "\n",
        "\n",
        "\n",
        "traintest_dates = [[ '2021-06-10', '2023-01-30',  '2023-02-20', '2023-12-30']]\n",
        "\n",
        "df_zscore_xgb = backtest(LIMIT, TICKER, TARGET, features, buy_thres, sell_thres, holdingperiod, traintest_dates,\n",
        "                         posstyle = 'allin', model='LinearRegression')\n"
      ]
    }
  ],
  "metadata": {
    "kernelspec": {
      "display_name": "venv",
      "language": "python",
      "name": "venv"
    },
    "language_info": {
      "codemirror_mode": {
        "name": "ipython",
        "version": 3
      },
      "file_extension": ".py",
      "mimetype": "text/x-python",
      "name": "python",
      "nbconvert_exporter": "python",
      "pygments_lexer": "ipython3",
      "version": "3.8.16"
    },
    "colab": {
      "provenance": [],
      "include_colab_link": true
    }
  },
  "nbformat": 4,
  "nbformat_minor": 5
}